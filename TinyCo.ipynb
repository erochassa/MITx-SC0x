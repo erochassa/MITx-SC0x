{
 "cells": [
  {
   "cell_type": "code",
   "execution_count": 1,
   "metadata": {},
   "outputs": [],
   "source": [
    "import numpy as np\n",
    "import matplotlib.pyplot as plt\n",
    "import pandas as pd\n",
    "%matplotlib inline"
   ]
  },
  {
   "cell_type": "code",
   "execution_count": 2,
   "metadata": {},
   "outputs": [],
   "source": [
    "STORE=\"Store 312\""
   ]
  },
  {
   "cell_type": "code",
   "execution_count": 3,
   "metadata": {},
   "outputs": [],
   "source": [
    "sku_master = pd.read_excel(\"asset-v1_MITx+CTL.SC4x+3T2018+type@asset+block@TinyCo_Data_RAW.xlsx\")\n",
    "store = pd.read_excel(\"asset-v1_MITx+CTL.SC4x+3T2018+type@asset+block@TinyCo_Data_RAW.xlsx\",\n",
    "                      STORE)"
   ]
  },
  {
   "cell_type": "code",
   "execution_count": 4,
   "metadata": {},
   "outputs": [
    {
     "data": {
      "text/html": [
       "<div>\n",
       "<style scoped>\n",
       "    .dataframe tbody tr th:only-of-type {\n",
       "        vertical-align: middle;\n",
       "    }\n",
       "\n",
       "    .dataframe tbody tr th {\n",
       "        vertical-align: top;\n",
       "    }\n",
       "\n",
       "    .dataframe thead th {\n",
       "        text-align: right;\n",
       "    }\n",
       "</style>\n",
       "<table border=\"1\" class=\"dataframe\">\n",
       "  <thead>\n",
       "    <tr style=\"text-align: right;\">\n",
       "      <th></th>\n",
       "      <th>Department</th>\n",
       "      <th>Class</th>\n",
       "      <th>Style</th>\n",
       "      <th>Color</th>\n",
       "      <th>SKU</th>\n",
       "      <th>Cost</th>\n",
       "      <th>Price</th>\n",
       "      <th>Vendor</th>\n",
       "    </tr>\n",
       "  </thead>\n",
       "  <tbody>\n",
       "    <tr>\n",
       "      <th>0</th>\n",
       "      <td>800</td>\n",
       "      <td>5</td>\n",
       "      <td>20</td>\n",
       "      <td>2</td>\n",
       "      <td>8000520021</td>\n",
       "      <td>7.5</td>\n",
       "      <td>9.99</td>\n",
       "      <td>MA Excellent Products</td>\n",
       "    </tr>\n",
       "    <tr>\n",
       "      <th>1</th>\n",
       "      <td>800</td>\n",
       "      <td>4</td>\n",
       "      <td>51</td>\n",
       "      <td>11</td>\n",
       "      <td>8000451112</td>\n",
       "      <td>9.0</td>\n",
       "      <td>12.99</td>\n",
       "      <td>MA Excellent Products</td>\n",
       "    </tr>\n",
       "    <tr>\n",
       "      <th>2</th>\n",
       "      <td>731</td>\n",
       "      <td>24</td>\n",
       "      <td>55</td>\n",
       "      <td>52</td>\n",
       "      <td>7312455520</td>\n",
       "      <td>25.0</td>\n",
       "      <td>31.99</td>\n",
       "      <td>MA Excellent Products</td>\n",
       "    </tr>\n",
       "    <tr>\n",
       "      <th>3</th>\n",
       "      <td>731</td>\n",
       "      <td>24</td>\n",
       "      <td>55</td>\n",
       "      <td>53</td>\n",
       "      <td>7312455530</td>\n",
       "      <td>14.5</td>\n",
       "      <td>22.99</td>\n",
       "      <td>GA General Wholesales</td>\n",
       "    </tr>\n",
       "    <tr>\n",
       "      <th>4</th>\n",
       "      <td>5001</td>\n",
       "      <td>201</td>\n",
       "      <td>12</td>\n",
       "      <td>4</td>\n",
       "      <td>50012011240</td>\n",
       "      <td>2.5</td>\n",
       "      <td>7.99</td>\n",
       "      <td>China Imports</td>\n",
       "    </tr>\n",
       "    <tr>\n",
       "      <th>5</th>\n",
       "      <td>5001</td>\n",
       "      <td>201</td>\n",
       "      <td>12</td>\n",
       "      <td>5</td>\n",
       "      <td>50012011250</td>\n",
       "      <td>7.5</td>\n",
       "      <td>9.99</td>\n",
       "      <td>China Imports</td>\n",
       "    </tr>\n",
       "    <tr>\n",
       "      <th>6</th>\n",
       "      <td>5001</td>\n",
       "      <td>201</td>\n",
       "      <td>13</td>\n",
       "      <td>4</td>\n",
       "      <td>50012011341</td>\n",
       "      <td>8.0</td>\n",
       "      <td>6.99</td>\n",
       "      <td>China Imports</td>\n",
       "    </tr>\n",
       "    <tr>\n",
       "      <th>7</th>\n",
       "      <td>5001</td>\n",
       "      <td>300</td>\n",
       "      <td>1</td>\n",
       "      <td>1</td>\n",
       "      <td>50013000110</td>\n",
       "      <td>6.5</td>\n",
       "      <td>12.99</td>\n",
       "      <td>China Imports</td>\n",
       "    </tr>\n",
       "  </tbody>\n",
       "</table>\n",
       "</div>"
      ],
      "text/plain": [
       "   Department  Class  Style  Color          SKU  Cost  Price  \\\n",
       "0         800      5     20      2   8000520021   7.5   9.99   \n",
       "1         800      4     51     11   8000451112   9.0  12.99   \n",
       "2         731     24     55     52   7312455520  25.0  31.99   \n",
       "3         731     24     55     53   7312455530  14.5  22.99   \n",
       "4        5001    201     12      4  50012011240   2.5   7.99   \n",
       "5        5001    201     12      5  50012011250   7.5   9.99   \n",
       "6        5001    201     13      4  50012011341   8.0   6.99   \n",
       "7        5001    300      1      1  50013000110   6.5  12.99   \n",
       "\n",
       "                  Vendor  \n",
       "0  MA Excellent Products  \n",
       "1  MA Excellent Products  \n",
       "2  MA Excellent Products  \n",
       "3  GA General Wholesales  \n",
       "4          China Imports  \n",
       "5          China Imports  \n",
       "6          China Imports  \n",
       "7          China Imports  "
      ]
     },
     "execution_count": 4,
     "metadata": {},
     "output_type": "execute_result"
    }
   ],
   "source": [
    "sku_master"
   ]
  },
  {
   "cell_type": "code",
   "execution_count": 5,
   "metadata": {},
   "outputs": [
    {
     "data": {
      "text/html": [
       "<div>\n",
       "<style scoped>\n",
       "    .dataframe tbody tr th:only-of-type {\n",
       "        vertical-align: middle;\n",
       "    }\n",
       "\n",
       "    .dataframe tbody tr th {\n",
       "        vertical-align: top;\n",
       "    }\n",
       "\n",
       "    .dataframe thead th {\n",
       "        text-align: right;\n",
       "    }\n",
       "</style>\n",
       "<table border=\"1\" class=\"dataframe\">\n",
       "  <thead>\n",
       "    <tr style=\"text-align: right;\">\n",
       "      <th></th>\n",
       "      <th>DB_ID</th>\n",
       "      <th>SKU</th>\n",
       "      <th>Store</th>\n",
       "      <th>Date</th>\n",
       "      <th>Unit Sales</th>\n",
       "      <th>Dollar Sales</th>\n",
       "    </tr>\n",
       "  </thead>\n",
       "  <tbody>\n",
       "    <tr>\n",
       "      <th>0</th>\n",
       "      <td>79444</td>\n",
       "      <td>50012011250</td>\n",
       "      <td>312</td>\n",
       "      <td>2014-08-04</td>\n",
       "      <td>3</td>\n",
       "      <td>29.97</td>\n",
       "    </tr>\n",
       "    <tr>\n",
       "      <th>1</th>\n",
       "      <td>79445</td>\n",
       "      <td>50012011250</td>\n",
       "      <td>312</td>\n",
       "      <td>2014-08-05</td>\n",
       "      <td>2</td>\n",
       "      <td>19.98</td>\n",
       "    </tr>\n",
       "    <tr>\n",
       "      <th>2</th>\n",
       "      <td>79446</td>\n",
       "      <td>50012011250</td>\n",
       "      <td>312</td>\n",
       "      <td>2014-08-06</td>\n",
       "      <td>5</td>\n",
       "      <td>49.95</td>\n",
       "    </tr>\n",
       "    <tr>\n",
       "      <th>3</th>\n",
       "      <td>79447</td>\n",
       "      <td>50012011250</td>\n",
       "      <td>312</td>\n",
       "      <td>2014-08-07</td>\n",
       "      <td>3</td>\n",
       "      <td>29.97</td>\n",
       "    </tr>\n",
       "    <tr>\n",
       "      <th>4</th>\n",
       "      <td>79448</td>\n",
       "      <td>50012011250</td>\n",
       "      <td>312</td>\n",
       "      <td>2014-08-08</td>\n",
       "      <td>7</td>\n",
       "      <td>69.93</td>\n",
       "    </tr>\n",
       "  </tbody>\n",
       "</table>\n",
       "</div>"
      ],
      "text/plain": [
       "   DB_ID          SKU  Store       Date Unit Sales  Dollar Sales\n",
       "0  79444  50012011250    312 2014-08-04          3         29.97\n",
       "1  79445  50012011250    312 2014-08-05          2         19.98\n",
       "2  79446  50012011250    312 2014-08-06          5         49.95\n",
       "3  79447  50012011250    312 2014-08-07          3         29.97\n",
       "4  79448  50012011250    312 2014-08-08          7         69.93"
      ]
     },
     "execution_count": 5,
     "metadata": {},
     "output_type": "execute_result"
    }
   ],
   "source": [
    "store.head()"
   ]
  },
  {
   "cell_type": "markdown",
   "metadata": {},
   "source": [
    "Differently from a spreadsheet, I cannot compute summary statistics of columns which have non-numerical values. So I have to remove those first."
   ]
  },
  {
   "cell_type": "code",
   "execution_count": 6,
   "metadata": {},
   "outputs": [],
   "source": [
    "store = store[ store[\"Unit Sales\"].apply(lambda x: type(x) == int or type(x) == float) ]\n",
    "store[\"Unit Sales\"]=store[\"Unit Sales\"].astype(np.float)"
   ]
  },
  {
   "cell_type": "code",
   "execution_count": 7,
   "metadata": {},
   "outputs": [
    {
     "data": {
      "text/html": [
       "<div>\n",
       "<style scoped>\n",
       "    .dataframe tbody tr th:only-of-type {\n",
       "        vertical-align: middle;\n",
       "    }\n",
       "\n",
       "    .dataframe tbody tr th {\n",
       "        vertical-align: top;\n",
       "    }\n",
       "\n",
       "    .dataframe thead th {\n",
       "        text-align: right;\n",
       "    }\n",
       "</style>\n",
       "<table border=\"1\" class=\"dataframe\">\n",
       "  <thead>\n",
       "    <tr style=\"text-align: right;\">\n",
       "      <th></th>\n",
       "      <th>Unit Sales</th>\n",
       "      <th>Dollar Sales</th>\n",
       "    </tr>\n",
       "  </thead>\n",
       "  <tbody>\n",
       "    <tr>\n",
       "      <th>count</th>\n",
       "      <td>3616.000000</td>\n",
       "      <td>3616.000000</td>\n",
       "    </tr>\n",
       "    <tr>\n",
       "      <th>mean</th>\n",
       "      <td>108.081305</td>\n",
       "      <td>1097.783678</td>\n",
       "    </tr>\n",
       "    <tr>\n",
       "      <th>std</th>\n",
       "      <td>2040.948271</td>\n",
       "      <td>20388.315627</td>\n",
       "    </tr>\n",
       "    <tr>\n",
       "      <th>min</th>\n",
       "      <td>-6.000000</td>\n",
       "      <td>-59.940000</td>\n",
       "    </tr>\n",
       "    <tr>\n",
       "      <th>25%</th>\n",
       "      <td>2.000000</td>\n",
       "      <td>15.980000</td>\n",
       "    </tr>\n",
       "    <tr>\n",
       "      <th>50%</th>\n",
       "      <td>3.000000</td>\n",
       "      <td>31.990000</td>\n",
       "    </tr>\n",
       "    <tr>\n",
       "      <th>75%</th>\n",
       "      <td>5.000000</td>\n",
       "      <td>68.970000</td>\n",
       "    </tr>\n",
       "    <tr>\n",
       "      <th>max</th>\n",
       "      <td>60000.000000</td>\n",
       "      <td>599400.000000</td>\n",
       "    </tr>\n",
       "  </tbody>\n",
       "</table>\n",
       "</div>"
      ],
      "text/plain": [
       "         Unit Sales   Dollar Sales\n",
       "count   3616.000000    3616.000000\n",
       "mean     108.081305    1097.783678\n",
       "std     2040.948271   20388.315627\n",
       "min       -6.000000     -59.940000\n",
       "25%        2.000000      15.980000\n",
       "50%        3.000000      31.990000\n",
       "75%        5.000000      68.970000\n",
       "max    60000.000000  599400.000000"
      ]
     },
     "execution_count": 7,
     "metadata": {},
     "output_type": "execute_result"
    }
   ],
   "source": [
    "store[[\"Unit Sales\",\"Dollar Sales\"]].describe()"
   ]
  },
  {
   "cell_type": "code",
   "execution_count": 8,
   "metadata": {},
   "outputs": [
    {
     "data": {
      "text/plain": [
       "3666"
      ]
     },
     "execution_count": 8,
     "metadata": {},
     "output_type": "execute_result"
    }
   ],
   "source": [
    "len(store)"
   ]
  },
  {
   "cell_type": "markdown",
   "metadata": {},
   "source": [
    "Removing zero-value records"
   ]
  },
  {
   "cell_type": "code",
   "execution_count": 9,
   "metadata": {},
   "outputs": [],
   "source": [
    "store = store[ ( store[[\"Unit Sales\",\"Dollar Sales\"]] != 0 ).any(axis=1) ]"
   ]
  },
  {
   "cell_type": "code",
   "execution_count": 10,
   "metadata": {},
   "outputs": [
    {
     "data": {
      "text/plain": [
       "3632"
      ]
     },
     "execution_count": 10,
     "metadata": {},
     "output_type": "execute_result"
    }
   ],
   "source": [
    "len(store)"
   ]
  },
  {
   "cell_type": "markdown",
   "metadata": {},
   "source": [
    "Remove Null records"
   ]
  },
  {
   "cell_type": "code",
   "execution_count": 11,
   "metadata": {},
   "outputs": [],
   "source": [
    "store = store[ ( store.notnull() ).all(axis=1) ]"
   ]
  },
  {
   "cell_type": "code",
   "execution_count": 12,
   "metadata": {},
   "outputs": [
    {
     "data": {
      "text/plain": [
       "3582"
      ]
     },
     "execution_count": 12,
     "metadata": {},
     "output_type": "execute_result"
    }
   ],
   "source": [
    "len(store)"
   ]
  },
  {
   "cell_type": "code",
   "execution_count": 13,
   "metadata": {},
   "outputs": [
    {
     "data": {
      "text/html": [
       "<div>\n",
       "<style scoped>\n",
       "    .dataframe tbody tr th:only-of-type {\n",
       "        vertical-align: middle;\n",
       "    }\n",
       "\n",
       "    .dataframe tbody tr th {\n",
       "        vertical-align: top;\n",
       "    }\n",
       "\n",
       "    .dataframe thead th {\n",
       "        text-align: right;\n",
       "    }\n",
       "</style>\n",
       "<table border=\"1\" class=\"dataframe\">\n",
       "  <thead>\n",
       "    <tr style=\"text-align: right;\">\n",
       "      <th></th>\n",
       "      <th>DB_ID</th>\n",
       "      <th>SKU</th>\n",
       "      <th>Store</th>\n",
       "      <th>Date</th>\n",
       "      <th>Unit Sales</th>\n",
       "      <th>Dollar Sales</th>\n",
       "    </tr>\n",
       "  </thead>\n",
       "  <tbody>\n",
       "    <tr>\n",
       "      <th>0</th>\n",
       "      <td>79444</td>\n",
       "      <td>50012011250</td>\n",
       "      <td>312</td>\n",
       "      <td>2014-08-04</td>\n",
       "      <td>3.0</td>\n",
       "      <td>29.97</td>\n",
       "    </tr>\n",
       "    <tr>\n",
       "      <th>1</th>\n",
       "      <td>79445</td>\n",
       "      <td>50012011250</td>\n",
       "      <td>312</td>\n",
       "      <td>2014-08-05</td>\n",
       "      <td>2.0</td>\n",
       "      <td>19.98</td>\n",
       "    </tr>\n",
       "    <tr>\n",
       "      <th>2</th>\n",
       "      <td>79446</td>\n",
       "      <td>50012011250</td>\n",
       "      <td>312</td>\n",
       "      <td>2014-08-06</td>\n",
       "      <td>5.0</td>\n",
       "      <td>49.95</td>\n",
       "    </tr>\n",
       "    <tr>\n",
       "      <th>3</th>\n",
       "      <td>79447</td>\n",
       "      <td>50012011250</td>\n",
       "      <td>312</td>\n",
       "      <td>2014-08-07</td>\n",
       "      <td>3.0</td>\n",
       "      <td>29.97</td>\n",
       "    </tr>\n",
       "    <tr>\n",
       "      <th>4</th>\n",
       "      <td>79448</td>\n",
       "      <td>50012011250</td>\n",
       "      <td>312</td>\n",
       "      <td>2014-08-08</td>\n",
       "      <td>7.0</td>\n",
       "      <td>69.93</td>\n",
       "    </tr>\n",
       "  </tbody>\n",
       "</table>\n",
       "</div>"
      ],
      "text/plain": [
       "   DB_ID          SKU  Store       Date  Unit Sales  Dollar Sales\n",
       "0  79444  50012011250    312 2014-08-04         3.0         29.97\n",
       "1  79445  50012011250    312 2014-08-05         2.0         19.98\n",
       "2  79446  50012011250    312 2014-08-06         5.0         49.95\n",
       "3  79447  50012011250    312 2014-08-07         3.0         29.97\n",
       "4  79448  50012011250    312 2014-08-08         7.0         69.93"
      ]
     },
     "execution_count": 13,
     "metadata": {},
     "output_type": "execute_result"
    }
   ],
   "source": [
    "store.head()"
   ]
  },
  {
   "cell_type": "markdown",
   "metadata": {},
   "source": [
    "Rescaled the outliers. This is a bit *ad hoc*, and I should have looked for outliers instead of using a hardwired number (in this case 10000)."
   ]
  },
  {
   "cell_type": "code",
   "execution_count": 14,
   "metadata": {},
   "outputs": [
    {
     "data": {
      "text/plain": [
       "11"
      ]
     },
     "execution_count": 14,
     "metadata": {},
     "output_type": "execute_result"
    }
   ],
   "source": [
    "len(store[store[\"Unit Sales\"] >= 10000])"
   ]
  },
  {
   "cell_type": "code",
   "execution_count": 15,
   "metadata": {},
   "outputs": [],
   "source": [
    "store.loc[ store[\"Unit Sales\"] >= 10000, [\"Unit Sales\",\"Dollar Sales\"] ] = \\\n",
    "  store.loc[ store[\"Unit Sales\"] >= 10000, [\"Unit Sales\",\"Dollar Sales\"] ]/10000 "
   ]
  },
  {
   "cell_type": "markdown",
   "metadata": {},
   "source": [
    "remove duplicates"
   ]
  },
  {
   "cell_type": "code",
   "execution_count": 17,
   "metadata": {},
   "outputs": [],
   "source": [
    "store = store.drop_duplicates()"
   ]
  },
  {
   "cell_type": "code",
   "execution_count": 18,
   "metadata": {},
   "outputs": [
    {
     "data": {
      "text/plain": [
       "3579"
      ]
     },
     "execution_count": 18,
     "metadata": {},
     "output_type": "execute_result"
    }
   ],
   "source": [
    "len(store)"
   ]
  },
  {
   "cell_type": "markdown",
   "metadata": {},
   "source": [
    "Show the records that do not have a corresponding entry on `sku_master`"
   ]
  },
  {
   "cell_type": "code",
   "execution_count": 19,
   "metadata": {},
   "outputs": [
    {
     "data": {
      "text/html": [
       "<div>\n",
       "<style scoped>\n",
       "    .dataframe tbody tr th:only-of-type {\n",
       "        vertical-align: middle;\n",
       "    }\n",
       "\n",
       "    .dataframe tbody tr th {\n",
       "        vertical-align: top;\n",
       "    }\n",
       "\n",
       "    .dataframe thead th {\n",
       "        text-align: right;\n",
       "    }\n",
       "</style>\n",
       "<table border=\"1\" class=\"dataframe\">\n",
       "  <thead>\n",
       "    <tr style=\"text-align: right;\">\n",
       "      <th></th>\n",
       "      <th>DB_ID</th>\n",
       "      <th>SKU</th>\n",
       "      <th>Store</th>\n",
       "      <th>Date</th>\n",
       "      <th>Unit Sales</th>\n",
       "      <th>Dollar Sales</th>\n",
       "    </tr>\n",
       "  </thead>\n",
       "  <tbody>\n",
       "    <tr>\n",
       "      <th>164</th>\n",
       "      <td>79608</td>\n",
       "      <td>50*12011250</td>\n",
       "      <td>312</td>\n",
       "      <td>2015-02-14</td>\n",
       "      <td>1.0</td>\n",
       "      <td>9.99</td>\n",
       "    </tr>\n",
       "    <tr>\n",
       "      <th>165</th>\n",
       "      <td>79609</td>\n",
       "      <td>50*12011250</td>\n",
       "      <td>312</td>\n",
       "      <td>2015-02-16</td>\n",
       "      <td>4.0</td>\n",
       "      <td>39.96</td>\n",
       "    </tr>\n",
       "    <tr>\n",
       "      <th>166</th>\n",
       "      <td>79610</td>\n",
       "      <td>50*12011250</td>\n",
       "      <td>312</td>\n",
       "      <td>2015-02-17</td>\n",
       "      <td>3.0</td>\n",
       "      <td>29.97</td>\n",
       "    </tr>\n",
       "    <tr>\n",
       "      <th>250</th>\n",
       "      <td>79694</td>\n",
       "      <td>50*12011250</td>\n",
       "      <td>312</td>\n",
       "      <td>2015-05-28</td>\n",
       "      <td>1.0</td>\n",
       "      <td>9.99</td>\n",
       "    </tr>\n",
       "    <tr>\n",
       "      <th>300</th>\n",
       "      <td>79744</td>\n",
       "      <td>50*12011250</td>\n",
       "      <td>312</td>\n",
       "      <td>2015-07-27</td>\n",
       "      <td>5.0</td>\n",
       "      <td>49.95</td>\n",
       "    </tr>\n",
       "    <tr>\n",
       "      <th>...</th>\n",
       "      <td>...</td>\n",
       "      <td>...</td>\n",
       "      <td>...</td>\n",
       "      <td>...</td>\n",
       "      <td>...</td>\n",
       "      <td>...</td>\n",
       "    </tr>\n",
       "    <tr>\n",
       "      <th>958</th>\n",
       "      <td>82858</td>\n",
       "      <td>50012011340</td>\n",
       "      <td>312</td>\n",
       "      <td>2015-12-26</td>\n",
       "      <td>1.0</td>\n",
       "      <td>4.99</td>\n",
       "    </tr>\n",
       "    <tr>\n",
       "      <th>959</th>\n",
       "      <td>82859</td>\n",
       "      <td>50012011340</td>\n",
       "      <td>312</td>\n",
       "      <td>2015-12-28</td>\n",
       "      <td>3.0</td>\n",
       "      <td>14.97</td>\n",
       "    </tr>\n",
       "    <tr>\n",
       "      <th>960</th>\n",
       "      <td>82860</td>\n",
       "      <td>50012011340</td>\n",
       "      <td>312</td>\n",
       "      <td>2015-12-29</td>\n",
       "      <td>3.0</td>\n",
       "      <td>14.97</td>\n",
       "    </tr>\n",
       "    <tr>\n",
       "      <th>961</th>\n",
       "      <td>82861</td>\n",
       "      <td>50012011340</td>\n",
       "      <td>312</td>\n",
       "      <td>2015-12-30</td>\n",
       "      <td>2.0</td>\n",
       "      <td>9.98</td>\n",
       "    </tr>\n",
       "    <tr>\n",
       "      <th>962</th>\n",
       "      <td>82862</td>\n",
       "      <td>50012011340</td>\n",
       "      <td>312</td>\n",
       "      <td>2016-01-01</td>\n",
       "      <td>3.0</td>\n",
       "      <td>14.97</td>\n",
       "    </tr>\n",
       "  </tbody>\n",
       "</table>\n",
       "<p>321 rows × 6 columns</p>\n",
       "</div>"
      ],
      "text/plain": [
       "     DB_ID          SKU  Store       Date  Unit Sales  Dollar Sales\n",
       "164  79608  50*12011250    312 2015-02-14         1.0          9.99\n",
       "165  79609  50*12011250    312 2015-02-16         4.0         39.96\n",
       "166  79610  50*12011250    312 2015-02-17         3.0         29.97\n",
       "250  79694  50*12011250    312 2015-05-28         1.0          9.99\n",
       "300  79744  50*12011250    312 2015-07-27         5.0         49.95\n",
       "..     ...          ...    ...        ...         ...           ...\n",
       "958  82858  50012011340    312 2015-12-26         1.0          4.99\n",
       "959  82859  50012011340    312 2015-12-28         3.0         14.97\n",
       "960  82860  50012011340    312 2015-12-29         3.0         14.97\n",
       "961  82861  50012011340    312 2015-12-30         2.0          9.98\n",
       "962  82862  50012011340    312 2016-01-01         3.0         14.97\n",
       "\n",
       "[321 rows x 6 columns]"
      ]
     },
     "execution_count": 19,
     "metadata": {},
     "output_type": "execute_result"
    }
   ],
   "source": [
    "store[~store.SKU.isin(sku_master.SKU)]"
   ]
  },
  {
   "cell_type": "code",
   "execution_count": 20,
   "metadata": {},
   "outputs": [
    {
     "data": {
      "text/html": [
       "<div>\n",
       "<style scoped>\n",
       "    .dataframe tbody tr th:only-of-type {\n",
       "        vertical-align: middle;\n",
       "    }\n",
       "\n",
       "    .dataframe tbody tr th {\n",
       "        vertical-align: top;\n",
       "    }\n",
       "\n",
       "    .dataframe thead th {\n",
       "        text-align: right;\n",
       "    }\n",
       "</style>\n",
       "<table border=\"1\" class=\"dataframe\">\n",
       "  <thead>\n",
       "    <tr style=\"text-align: right;\">\n",
       "      <th></th>\n",
       "      <th>Unit Sales</th>\n",
       "      <th>Dollar Sales</th>\n",
       "    </tr>\n",
       "  </thead>\n",
       "  <tbody>\n",
       "    <tr>\n",
       "      <th>count</th>\n",
       "      <td>3579.000000</td>\n",
       "      <td>3579.000000</td>\n",
       "    </tr>\n",
       "    <tr>\n",
       "      <th>mean</th>\n",
       "      <td>5.825929</td>\n",
       "      <td>76.443557</td>\n",
       "    </tr>\n",
       "    <tr>\n",
       "      <th>std</th>\n",
       "      <td>9.044461</td>\n",
       "      <td>119.245469</td>\n",
       "    </tr>\n",
       "    <tr>\n",
       "      <th>min</th>\n",
       "      <td>-6.000000</td>\n",
       "      <td>-59.940000</td>\n",
       "    </tr>\n",
       "    <tr>\n",
       "      <th>25%</th>\n",
       "      <td>2.000000</td>\n",
       "      <td>15.980000</td>\n",
       "    </tr>\n",
       "    <tr>\n",
       "      <th>50%</th>\n",
       "      <td>3.000000</td>\n",
       "      <td>31.990000</td>\n",
       "    </tr>\n",
       "    <tr>\n",
       "      <th>75%</th>\n",
       "      <td>5.000000</td>\n",
       "      <td>68.970000</td>\n",
       "    </tr>\n",
       "    <tr>\n",
       "      <th>max</th>\n",
       "      <td>42.000000</td>\n",
       "      <td>699.930000</td>\n",
       "    </tr>\n",
       "  </tbody>\n",
       "</table>\n",
       "</div>"
      ],
      "text/plain": [
       "        Unit Sales  Dollar Sales\n",
       "count  3579.000000   3579.000000\n",
       "mean      5.825929     76.443557\n",
       "std       9.044461    119.245469\n",
       "min      -6.000000    -59.940000\n",
       "25%       2.000000     15.980000\n",
       "50%       3.000000     31.990000\n",
       "75%       5.000000     68.970000\n",
       "max      42.000000    699.930000"
      ]
     },
     "execution_count": 20,
     "metadata": {},
     "output_type": "execute_result"
    }
   ],
   "source": [
    "store[[\"Unit Sales\",\"Dollar Sales\"]].describe()"
   ]
  },
  {
   "cell_type": "code",
   "execution_count": null,
   "metadata": {},
   "outputs": [],
   "source": []
  }
 ],
 "metadata": {
  "kernelspec": {
   "display_name": "Python 3",
   "language": "python",
   "name": "python3"
  },
  "language_info": {
   "codemirror_mode": {
    "name": "ipython",
    "version": 3
   },
   "file_extension": ".py",
   "mimetype": "text/x-python",
   "name": "python",
   "nbconvert_exporter": "python",
   "pygments_lexer": "ipython3",
   "version": "3.8.3"
  }
 },
 "nbformat": 4,
 "nbformat_minor": 4
}
